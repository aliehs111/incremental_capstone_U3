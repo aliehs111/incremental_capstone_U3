{
 "cells": [
  {
   "cell_type": "code",
   "execution_count": null,
   "id": "b1c7840c-b646-4064-bcc8-3cd42620ac70",
   "metadata": {},
   "outputs": [],
   "source": [
    "# Task 1: Feature engineering (45 mins)\n",
    "\n",
    "#  Analyze the provided dataset and select relevant features\n",
    "# Create new features such as: \n",
    "# Interaction features\n",
    "# Encode categorical variables and handle missing values\n",
    "# Scale the numerical features using StandardScaler\n",
    "# Save the processed dataset as \"bike_rental_features.csv\""
   ]
  },
  {
   "cell_type": "code",
   "execution_count": 5,
   "id": "2cc4c6db-2f85-47d1-86a7-f56caf87393b",
   "metadata": {},
   "outputs": [
    {
     "name": "stdout",
     "output_type": "stream",
     "text": [
      "<class 'pandas.core.frame.DataFrame'>\n",
      "RangeIndex: 8760 entries, 0 to 8759\n",
      "Data columns (total 14 columns):\n",
      " #   Column                 Non-Null Count  Dtype  \n",
      "---  ------                 --------------  -----  \n",
      " 0   Date                   8760 non-null   object \n",
      " 1   Rented Bike Count      8760 non-null   int64  \n",
      " 2   Hour                   8760 non-null   int64  \n",
      " 3   Temperature            8760 non-null   float64\n",
      " 4   Humidity               8760 non-null   int64  \n",
      " 5   Wind speed             8760 non-null   float64\n",
      " 6   Visibility             8760 non-null   int64  \n",
      " 7   Dew point temperature  8760 non-null   float64\n",
      " 8   Solar Radiation        8760 non-null   float64\n",
      " 9   Rainfall               8760 non-null   float64\n",
      " 10  Snowfall               8760 non-null   float64\n",
      " 11  Seasons                8760 non-null   object \n",
      " 12  Holiday                8760 non-null   object \n",
      " 13  Functioning Day        8760 non-null   object \n",
      "dtypes: float64(6), int64(4), object(4)\n",
      "memory usage: 958.3+ KB\n"
     ]
    },
    {
     "data": {
      "text/html": [
       "<div>\n",
       "<style scoped>\n",
       "    .dataframe tbody tr th:only-of-type {\n",
       "        vertical-align: middle;\n",
       "    }\n",
       "\n",
       "    .dataframe tbody tr th {\n",
       "        vertical-align: top;\n",
       "    }\n",
       "\n",
       "    .dataframe thead th {\n",
       "        text-align: right;\n",
       "    }\n",
       "</style>\n",
       "<table border=\"1\" class=\"dataframe\">\n",
       "  <thead>\n",
       "    <tr style=\"text-align: right;\">\n",
       "      <th></th>\n",
       "      <th>Date</th>\n",
       "      <th>Rented Bike Count</th>\n",
       "      <th>Hour</th>\n",
       "      <th>Temperature</th>\n",
       "      <th>Humidity</th>\n",
       "      <th>Wind speed</th>\n",
       "      <th>Visibility</th>\n",
       "      <th>Dew point temperature</th>\n",
       "      <th>Solar Radiation</th>\n",
       "      <th>Rainfall</th>\n",
       "      <th>Snowfall</th>\n",
       "      <th>Seasons</th>\n",
       "      <th>Holiday</th>\n",
       "      <th>Functioning Day</th>\n",
       "    </tr>\n",
       "  </thead>\n",
       "  <tbody>\n",
       "    <tr>\n",
       "      <th>0</th>\n",
       "      <td>01-12-2017</td>\n",
       "      <td>254</td>\n",
       "      <td>0</td>\n",
       "      <td>-5.2</td>\n",
       "      <td>37</td>\n",
       "      <td>2.2</td>\n",
       "      <td>2000</td>\n",
       "      <td>-17.6</td>\n",
       "      <td>0.0</td>\n",
       "      <td>0.0</td>\n",
       "      <td>0.0</td>\n",
       "      <td>Winter</td>\n",
       "      <td>No Holiday</td>\n",
       "      <td>Yes</td>\n",
       "    </tr>\n",
       "    <tr>\n",
       "      <th>1</th>\n",
       "      <td>01-12-2017</td>\n",
       "      <td>204</td>\n",
       "      <td>1</td>\n",
       "      <td>-5.5</td>\n",
       "      <td>38</td>\n",
       "      <td>0.8</td>\n",
       "      <td>2000</td>\n",
       "      <td>-17.6</td>\n",
       "      <td>0.0</td>\n",
       "      <td>0.0</td>\n",
       "      <td>0.0</td>\n",
       "      <td>Winter</td>\n",
       "      <td>No Holiday</td>\n",
       "      <td>Yes</td>\n",
       "    </tr>\n",
       "    <tr>\n",
       "      <th>2</th>\n",
       "      <td>01-12-2017</td>\n",
       "      <td>173</td>\n",
       "      <td>2</td>\n",
       "      <td>-6.0</td>\n",
       "      <td>39</td>\n",
       "      <td>1.0</td>\n",
       "      <td>2000</td>\n",
       "      <td>-17.7</td>\n",
       "      <td>0.0</td>\n",
       "      <td>0.0</td>\n",
       "      <td>0.0</td>\n",
       "      <td>Winter</td>\n",
       "      <td>No Holiday</td>\n",
       "      <td>Yes</td>\n",
       "    </tr>\n",
       "    <tr>\n",
       "      <th>3</th>\n",
       "      <td>01-12-2017</td>\n",
       "      <td>107</td>\n",
       "      <td>3</td>\n",
       "      <td>-6.2</td>\n",
       "      <td>40</td>\n",
       "      <td>0.9</td>\n",
       "      <td>2000</td>\n",
       "      <td>-17.6</td>\n",
       "      <td>0.0</td>\n",
       "      <td>0.0</td>\n",
       "      <td>0.0</td>\n",
       "      <td>Winter</td>\n",
       "      <td>No Holiday</td>\n",
       "      <td>Yes</td>\n",
       "    </tr>\n",
       "    <tr>\n",
       "      <th>4</th>\n",
       "      <td>01-12-2017</td>\n",
       "      <td>78</td>\n",
       "      <td>4</td>\n",
       "      <td>-6.0</td>\n",
       "      <td>36</td>\n",
       "      <td>2.3</td>\n",
       "      <td>2000</td>\n",
       "      <td>-18.6</td>\n",
       "      <td>0.0</td>\n",
       "      <td>0.0</td>\n",
       "      <td>0.0</td>\n",
       "      <td>Winter</td>\n",
       "      <td>No Holiday</td>\n",
       "      <td>Yes</td>\n",
       "    </tr>\n",
       "  </tbody>\n",
       "</table>\n",
       "</div>"
      ],
      "text/plain": [
       "         Date  Rented Bike Count  Hour  Temperature  Humidity  Wind speed  \\\n",
       "0  01-12-2017                254     0         -5.2        37         2.2   \n",
       "1  01-12-2017                204     1         -5.5        38         0.8   \n",
       "2  01-12-2017                173     2         -6.0        39         1.0   \n",
       "3  01-12-2017                107     3         -6.2        40         0.9   \n",
       "4  01-12-2017                 78     4         -6.0        36         2.3   \n",
       "\n",
       "   Visibility  Dew point temperature  Solar Radiation  Rainfall  Snowfall  \\\n",
       "0        2000                  -17.6              0.0       0.0       0.0   \n",
       "1        2000                  -17.6              0.0       0.0       0.0   \n",
       "2        2000                  -17.7              0.0       0.0       0.0   \n",
       "3        2000                  -17.6              0.0       0.0       0.0   \n",
       "4        2000                  -18.6              0.0       0.0       0.0   \n",
       "\n",
       "  Seasons     Holiday Functioning Day  \n",
       "0  Winter  No Holiday             Yes  \n",
       "1  Winter  No Holiday             Yes  \n",
       "2  Winter  No Holiday             Yes  \n",
       "3  Winter  No Holiday             Yes  \n",
       "4  Winter  No Holiday             Yes  "
      ]
     },
     "execution_count": 5,
     "metadata": {},
     "output_type": "execute_result"
    }
   ],
   "source": [
    "\n",
    "import pandas as pd\n",
    "df = pd.read_csv(\"FloridaBikeRentals.csv\")\n",
    "df.info(); df.head()\n"
   ]
  },
  {
   "cell_type": "code",
   "execution_count": 7,
   "id": "7d70fb9c-71c8-4a24-ab01-3c3978eef149",
   "metadata": {},
   "outputs": [],
   "source": [
    "df['Date'] = pd.to_datetime(df['Date'], format='%d-%m-%Y')  # day-month-year\n",
    "\n",
    "# 2) Now build a DateTime by adding the Hour\n",
    "df['DateTime'] = df['Date'] + pd.to_timedelta(df['Hour'], unit='h')\n",
    "\n",
    "# 3) You can now safely extract .dt properties:\n",
    "df['year']    = df['DateTime'].dt.year\n",
    "df['month']   = df['DateTime'].dt.month\n",
    "df['day']     = df['DateTime'].dt.day\n",
    "df['weekday'] = df['DateTime'].dt.weekday\n",
    "\n",
    "df['hour']    = df['DateTime'].dt.hour\n",
    "\n"
   ]
  },
  {
   "cell_type": "code",
   "execution_count": 9,
   "id": "4c267942-7dee-4ec6-925b-c6770d225165",
   "metadata": {},
   "outputs": [],
   "source": [
    "# interaction feature \n",
    "df['temp_humidity'] = df['Temperature'] * df['Humidity']\n",
    "\n"
   ]
  },
  {
   "cell_type": "code",
   "execution_count": 10,
   "id": "d8582083-49b9-42f4-ad39-adaf835f5459",
   "metadata": {},
   "outputs": [],
   "source": [
    "# Encode categoricals\n",
    "#    Seasons, Holiday, Functioning Day are object dtypes\n",
    "df = pd.get_dummies(df,\n",
    "                    columns=['Seasons','Holiday','Functioning Day'],\n",
    "                    drop_first=True)"
   ]
  },
  {
   "cell_type": "code",
   "execution_count": 11,
   "id": "2f1cabc0-e7ab-4a7c-9785-e86ac12d878c",
   "metadata": {},
   "outputs": [
    {
     "name": "stdout",
     "output_type": "stream",
     "text": [
      "['Date', 'Rented Bike Count', 'Hour', 'Temperature', 'Humidity', 'Wind speed', 'Visibility', 'Dew point temperature', 'Solar Radiation', 'Rainfall', 'Snowfall', 'DateTime', 'year', 'month', 'day', 'weekday', 'hour', 'temp_humidity', 'Seasons_Spring', 'Seasons_Summer', 'Seasons_Winter', 'Holiday_No Holiday', 'Functioning Day_Yes']\n"
     ]
    }
   ],
   "source": [
    "print(df.columns.tolist())\n"
   ]
  },
  {
   "cell_type": "code",
   "execution_count": null,
   "id": "e36aa16b-e3d9-4bbf-be5c-d14b48e29288",
   "metadata": {},
   "outputs": [],
   "source": [
    "df.drop(columns=['Date', 'DateTime', 'Hour'], inplace=True)"
   ]
  },
  {
   "cell_type": "code",
   "execution_count": null,
   "id": "1d8cb2bf-161c-4fd6-9ffa-387704033eda",
   "metadata": {},
   "outputs": [],
   "source": [
    "import pandas as pd\n",
    "from sklearn.preprocessing import StandardScaler\n",
    "\n",
    "# Scale numerical columns\n",
    "num_cols = [\n",
    "    'Temperature',\n",
    "    'Humidity',\n",
    "    'Wind speed',\n",
    "    'Visibility',\n",
    "    'Dew point temperature',\n",
    "    'Solar Radiation',\n",
    "    'Rainfall',\n",
    "    'Snowfall',\n",
    "    'temp_humidity',\n",
    "]\n",
    "scaler = StandardScaler()\n",
    "df[num_cols] = scaler.fit_transform(df[num_cols])"
   ]
  },
  {
   "cell_type": "code",
   "execution_count": 12,
   "id": "869327c8-2585-4f2e-8c83-80ffbb163f39",
   "metadata": {},
   "outputs": [
    {
     "name": "stdout",
     "output_type": "stream",
     "text": [
      "Saved bike_rental_features.csv with shape: (8760, 23)\n"
     ]
    }
   ],
   "source": [
    "# Save final feature set\n",
    "df.to_csv(\"bike_rental_features.csv\", index=False)\n",
    "print(\"Saved bike_rental_features.csv with shape:\", df.shape)"
   ]
  },
  {
   "cell_type": "code",
   "execution_count": 36,
   "id": "413d1c59-dfad-471d-aa11-640f8cde6632",
   "metadata": {},
   "outputs": [
    {
     "data": {
      "image/png": "[encoded data removed]",
      "text/plain": [
       "<Figure size 1200x1000 with 2 Axes>"
      ]
     },
     "metadata": {},
     "output_type": "display_data"
    }
   ],
   "source": [
    "import pandas as pd\n",
    "import matplotlib.pyplot as plt\n",
    "\n",
    "# 1) Load your feature file\n",
    "df = pd.read_csv(\"bike_rental_features.csv\")\n",
    "\n",
    "# 2) Keep only numeric (and boolean) columns\n",
    "df_num = df.select_dtypes(include=['number', 'bool'])\n",
    "\n",
    "# 3) Compute the Pearson correlation matrix\n",
    "corr = df_num.corr()\n",
    "\n",
    "# 4) Plot it\n",
    "plt.figure(figsize=(12, 10))\n",
    "plt.imshow(corr, aspect='auto')\n",
    "plt.xticks(range(len(corr)), corr.columns, rotation=90)\n",
    "plt.yticks(range(len(corr)), corr.index)\n",
    "plt.colorbar(label='Pearson r')\n",
    "plt.title(\"Feature Correlation Heatmap\")\n",
    "plt.tight_layout()\n",
    "plt.show()\n",
    "\n"
   ]
  },
  {
   "cell_type": "code",
   "execution_count": null,
   "id": "ebfb8539-e988-4919-b18e-e1e7d6aa29a9",
   "metadata": {},
   "outputs": [],
   "source": [
    "# Task 2: Model building (75 mins)\n",
    "\n",
    "# Implement various regression models including: \n",
    "# Linear Regression\n",
    "# Ridge Regression (L2 Regularization)\n",
    "# Lasso Regression (L1 Regularization)\n",
    "# Elastic Net Regression\n",
    "#  Perform hyperparameter tuning using GridSearchCV\n",
    "# Evaluate model performance using: \n",
    "# Mean Absolute Error (MAE)\n",
    "# Mean Squared Error (MSE)\n",
    "# R-squared (R²)"
   ]
  },
  {
   "cell_type": "code",
   "execution_count": 14,
   "id": "facba45f-d00e-445c-b495-1bc132a2e654",
   "metadata": {},
   "outputs": [
    {
     "name": "stdout",
     "output_type": "stream",
     "text": [
      "[dtype('int64') dtype('float64') dtype('bool')]\n"
     ]
    }
   ],
   "source": [
    "import pandas as pd\n",
    "from sklearn.model_selection import train_test_split, GridSearchCV\n",
    "from sklearn.linear_model import LinearRegression, Ridge, Lasso, ElasticNet\n",
    "from sklearn.metrics import mean_absolute_error, mean_squared_error, r2_score\n",
    "\n",
    "# — Load and immediately drop any leftover date columns —\n",
    "df = pd.read_csv(\"bike_rental_features.csv\")\n",
    "df.drop(columns=['Date', 'DateTime'], inplace=True, errors='ignore')\n",
    "\n",
    "# — Now split into X (all numeric features) and y —\n",
    "X = df.drop(columns=['Rented Bike Count'])\n",
    "y = df['Rented Bike Count']\n",
    "\n",
    "# — Sanity check: should be all numeric —\n",
    "print(X.dtypes.unique())   # should show only int64 or float64\n",
    "\n",
    "\n"
   ]
  },
  {
   "cell_type": "code",
   "execution_count": 19,
   "id": "22c32808-0285-4b3a-afac-8f015e5b7ed9",
   "metadata": {},
   "outputs": [
    {
     "name": "stderr",
     "output_type": "stream",
     "text": [
      "/Users/sheilamcgovern/anaconda3/lib/python3.11/site-packages/sklearn/linear_model/_coordinate_descent.py:695: ConvergenceWarning: Objective did not converge. You might want to increase the number of iterations, check the scale of the features or consider increasing regularisation. Duality gap: 4.479e+08, tolerance: 2.342e+05\n",
      "  model = cd_fast.enet_coordinate_descent(\n",
      "/Users/sheilamcgovern/anaconda3/lib/python3.11/site-packages/sklearn/linear_model/_coordinate_descent.py:695: ConvergenceWarning: Objective did not converge. You might want to increase the number of iterations, check the scale of the features or consider increasing regularisation. Duality gap: 4.471e+08, tolerance: 2.339e+05\n",
      "  model = cd_fast.enet_coordinate_descent(\n",
      "/Users/sheilamcgovern/anaconda3/lib/python3.11/site-packages/sklearn/linear_model/_coordinate_descent.py:695: ConvergenceWarning: Objective did not converge. You might want to increase the number of iterations, check the scale of the features or consider increasing regularisation. Duality gap: 4.442e+08, tolerance: 2.304e+05\n",
      "  model = cd_fast.enet_coordinate_descent(\n",
      "/Users/sheilamcgovern/anaconda3/lib/python3.11/site-packages/sklearn/linear_model/_coordinate_descent.py:695: ConvergenceWarning: Objective did not converge. You might want to increase the number of iterations, check the scale of the features or consider increasing regularisation. Duality gap: 4.434e+08, tolerance: 2.348e+05\n",
      "  model = cd_fast.enet_coordinate_descent(\n",
      "/Users/sheilamcgovern/anaconda3/lib/python3.11/site-packages/sklearn/linear_model/_coordinate_descent.py:695: ConvergenceWarning: Objective did not converge. You might want to increase the number of iterations, check the scale of the features or consider increasing regularisation. Duality gap: 4.366e+08, tolerance: 2.323e+05\n",
      "  model = cd_fast.enet_coordinate_descent(\n",
      "/Users/sheilamcgovern/anaconda3/lib/python3.11/site-packages/sklearn/linear_model/_coordinate_descent.py:695: ConvergenceWarning: Objective did not converge. You might want to increase the number of iterations, check the scale of the features or consider increasing regularisation. Duality gap: 5.555e+08, tolerance: 2.914e+05\n",
      "  model = cd_fast.enet_coordinate_descent(\n"
     ]
    },
    {
     "name": "stdout",
     "output_type": "stream",
     "text": [
      "     Model                     Best Params        MAE           MSE       R²\n",
      "     Lasso                 {'alpha': 0.01} 319.983260 186123.671164 0.553281\n",
      "     Ridge                  {'alpha': 0.1} 319.992945 186128.843557 0.553269\n",
      "    Linear                              {} 320.021067 186142.736099 0.553236\n",
      "ElasticNet {'alpha': 0.1, 'l1_ratio': 0.8} 318.072207 189221.034052 0.545847\n"
     ]
    }
   ],
   "source": [
    "from sklearn.model_selection import train_test_split, GridSearchCV\n",
    "from sklearn.linear_model import LinearRegression, Ridge, Lasso, ElasticNet\n",
    "from sklearn.metrics import mean_absolute_error, mean_squared_error, r2_score\n",
    "\n",
    "\n",
    "\n",
    "\n",
    "X_train, X_test, y_train, y_test = train_test_split(\n",
    "    X, y, test_size=0.20, random_state=42\n",
    ")\n",
    "\n",
    "models = {\n",
    "    \"Linear\": (\n",
    "        LinearRegression(),\n",
    "        {}\n",
    "    ),\n",
    "    \"Ridge\": (\n",
    "        Ridge(),\n",
    "        {\"alpha\": [0.1, 1, 10, 50]}\n",
    "    ),\n",
    "    \"Lasso\": (\n",
    "        Lasso(max_iter=20000),\n",
    "        {\"alpha\": [0.01]}\n",
    "    ),\n",
    "    \"ElasticNet\": (\n",
    "        ElasticNet(max_iter=20000),\n",
    "        {\"alpha\": [0.1], \"l1_ratio\": [0.8]}\n",
    "    ),\n",
    "}\n",
    "\n",
    "\n",
    "results = []\n",
    "for name, (estimator, params) in models.items():\n",
    "    gs = GridSearchCV(estimator, params, cv=5, scoring=\"neg_mean_squared_error\", n_jobs=-1)\n",
    "    gs.fit(X_train, y_train)\n",
    "    y_pred = gs.best_estimator_.predict(X_test)\n",
    "    results.append({\n",
    "        \"Model\": name,\n",
    "        \"Best Params\": gs.best_params_,\n",
    "        \"MAE\": mean_absolute_error(y_test, y_pred),\n",
    "        \"MSE\": mean_squared_error(y_test, y_pred),\n",
    "        \"R²\":  r2_score(y_test, y_pred)\n",
    "    })\n",
    "\n",
    "import pandas as pd\n",
    "print(pd.DataFrame(results).sort_values(\"MSE\").to_string(index=False))\n"
   ]
  },
  {
   "cell_type": "code",
   "execution_count": null,
   "id": "972d2d85-3bdb-49cc-a5b8-bc26369adad0",
   "metadata": {},
   "outputs": [],
   "source": [
    "# Task 3: Model building with polynomial features (45 mins)\n",
    "\n",
    "# Create polynomial features for selected numerical columns\n",
    "# Train models with polynomial features to capture non-linear relationships\n",
    "# Compare results with linear models to assess improvements\n",
    "# Save the best-performing model\n",
    "     "
   ]
  },
  {
   "cell_type": "code",
   "execution_count": 24,
   "id": "2d446cb8-6d47-41c8-8721-a4fca99762fb",
   "metadata": {},
   "outputs": [
    {
     "name": "stdout",
     "output_type": "stream",
     "text": [
      "Fitting 5 folds for each of 18 candidates, totalling 90 fits\n"
     ]
    },
    {
     "name": "stderr",
     "output_type": "stream",
     "text": [
      "/Users/sheilamcgovern/anaconda3/lib/python3.11/site-packages/sklearn/linear_model/_sag.py:348: ConvergenceWarning: The max_iter was reached which means the coef_ did not converge\n",
      "  warnings.warn(\n",
      "/Users/sheilamcgovern/anaconda3/lib/python3.11/site-packages/sklearn/linear_model/_sag.py:348: ConvergenceWarning: The max_iter was reached which means the coef_ did not converge\n",
      "  warnings.warn(\n",
      "/Users/sheilamcgovern/anaconda3/lib/python3.11/site-packages/sklearn/linear_model/_sag.py:348: ConvergenceWarning: The max_iter was reached which means the coef_ did not converge\n",
      "  warnings.warn(\n",
      "/Users/sheilamcgovern/anaconda3/lib/python3.11/site-packages/sklearn/linear_model/_sag.py:348: ConvergenceWarning: The max_iter was reached which means the coef_ did not converge\n",
      "  warnings.warn(\n",
      "/Users/sheilamcgovern/anaconda3/lib/python3.11/site-packages/sklearn/linear_model/_sag.py:348: ConvergenceWarning: The max_iter was reached which means the coef_ did not converge\n",
      "  warnings.warn(\n",
      "/Users/sheilamcgovern/anaconda3/lib/python3.11/site-packages/joblib/externals/loky/process_executor.py:752: UserWarning: A worker stopped while some jobs were given to the executor. This can be caused by a too short worker timeout or by a memory leak.\n",
      "  warnings.warn(\n",
      "/Users/sheilamcgovern/anaconda3/lib/python3.11/site-packages/sklearn/linear_model/_sag.py:348: ConvergenceWarning: The max_iter was reached which means the coef_ did not converge\n",
      "  warnings.warn(\n",
      "/Users/sheilamcgovern/anaconda3/lib/python3.11/site-packages/sklearn/linear_model/_sag.py:348: ConvergenceWarning: The max_iter was reached which means the coef_ did not converge\n",
      "  warnings.warn(\n",
      "/Users/sheilamcgovern/anaconda3/lib/python3.11/site-packages/sklearn/linear_model/_sag.py:348: ConvergenceWarning: The max_iter was reached which means the coef_ did not converge\n",
      "  warnings.warn(\n",
      "/Users/sheilamcgovern/anaconda3/lib/python3.11/site-packages/sklearn/linear_model/_sag.py:348: ConvergenceWarning: The max_iter was reached which means the coef_ did not converge\n",
      "  warnings.warn(\n",
      "/Users/sheilamcgovern/anaconda3/lib/python3.11/site-packages/sklearn/linear_model/_sag.py:348: ConvergenceWarning: The max_iter was reached which means the coef_ did not converge\n",
      "  warnings.warn(\n",
      "/Users/sheilamcgovern/anaconda3/lib/python3.11/site-packages/sklearn/linear_model/_sag.py:348: ConvergenceWarning: The max_iter was reached which means the coef_ did not converge\n",
      "  warnings.warn(\n",
      "/Users/sheilamcgovern/anaconda3/lib/python3.11/site-packages/sklearn/linear_model/_sag.py:348: ConvergenceWarning: The max_iter was reached which means the coef_ did not converge\n",
      "  warnings.warn(\n",
      "/Users/sheilamcgovern/anaconda3/lib/python3.11/site-packages/sklearn/linear_model/_sag.py:348: ConvergenceWarning: The max_iter was reached which means the coef_ did not converge\n",
      "  warnings.warn(\n",
      "/Users/sheilamcgovern/anaconda3/lib/python3.11/site-packages/sklearn/linear_model/_sag.py:348: ConvergenceWarning: The max_iter was reached which means the coef_ did not converge\n",
      "  warnings.warn(\n",
      "/Users/sheilamcgovern/anaconda3/lib/python3.11/site-packages/sklearn/linear_model/_sag.py:348: ConvergenceWarning: The max_iter was reached which means the coef_ did not converge\n",
      "  warnings.warn(\n",
      "/Users/sheilamcgovern/anaconda3/lib/python3.11/site-packages/sklearn/linear_model/_sag.py:348: ConvergenceWarning: The max_iter was reached which means the coef_ did not converge\n",
      "  warnings.warn(\n",
      "/Users/sheilamcgovern/anaconda3/lib/python3.11/site-packages/sklearn/linear_model/_sag.py:348: ConvergenceWarning: The max_iter was reached which means the coef_ did not converge\n",
      "  warnings.warn(\n",
      "/Users/sheilamcgovern/anaconda3/lib/python3.11/site-packages/sklearn/linear_model/_sag.py:348: ConvergenceWarning: The max_iter was reached which means the coef_ did not converge\n",
      "  warnings.warn(\n",
      "/Users/sheilamcgovern/anaconda3/lib/python3.11/site-packages/sklearn/linear_model/_sag.py:348: ConvergenceWarning: The max_iter was reached which means the coef_ did not converge\n",
      "  warnings.warn(\n",
      "/Users/sheilamcgovern/anaconda3/lib/python3.11/site-packages/sklearn/linear_model/_sag.py:348: ConvergenceWarning: The max_iter was reached which means the coef_ did not converge\n",
      "  warnings.warn(\n",
      "/Users/sheilamcgovern/anaconda3/lib/python3.11/site-packages/sklearn/linear_model/_sag.py:348: ConvergenceWarning: The max_iter was reached which means the coef_ did not converge\n",
      "  warnings.warn(\n",
      "/Users/sheilamcgovern/anaconda3/lib/python3.11/site-packages/sklearn/linear_model/_sag.py:348: ConvergenceWarning: The max_iter was reached which means the coef_ did not converge\n",
      "  warnings.warn(\n",
      "/Users/sheilamcgovern/anaconda3/lib/python3.11/site-packages/sklearn/linear_model/_sag.py:348: ConvergenceWarning: The max_iter was reached which means the coef_ did not converge\n",
      "  warnings.warn(\n",
      "/Users/sheilamcgovern/anaconda3/lib/python3.11/site-packages/sklearn/linear_model/_sag.py:348: ConvergenceWarning: The max_iter was reached which means the coef_ did not converge\n",
      "  warnings.warn(\n",
      "/Users/sheilamcgovern/anaconda3/lib/python3.11/site-packages/sklearn/linear_model/_sag.py:348: ConvergenceWarning: The max_iter was reached which means the coef_ did not converge\n",
      "  warnings.warn(\n",
      "/Users/sheilamcgovern/anaconda3/lib/python3.11/site-packages/sklearn/linear_model/_sag.py:348: ConvergenceWarning: The max_iter was reached which means the coef_ did not converge\n",
      "  warnings.warn(\n",
      "/Users/sheilamcgovern/anaconda3/lib/python3.11/site-packages/sklearn/linear_model/_sag.py:348: ConvergenceWarning: The max_iter was reached which means the coef_ did not converge\n",
      "  warnings.warn(\n",
      "/Users/sheilamcgovern/anaconda3/lib/python3.11/site-packages/sklearn/linear_model/_sag.py:348: ConvergenceWarning: The max_iter was reached which means the coef_ did not converge\n",
      "  warnings.warn(\n",
      "/Users/sheilamcgovern/anaconda3/lib/python3.11/site-packages/sklearn/linear_model/_sag.py:348: ConvergenceWarning: The max_iter was reached which means the coef_ did not converge\n",
      "  warnings.warn(\n",
      "/Users/sheilamcgovern/anaconda3/lib/python3.11/site-packages/sklearn/linear_model/_sag.py:348: ConvergenceWarning: The max_iter was reached which means the coef_ did not converge\n",
      "  warnings.warn(\n"
     ]
    },
    {
     "name": "stdout",
     "output_type": "stream",
     "text": [
      "Best params: {'model__alpha': 10, 'model__solver': 'lsqr', 'poly__degree': 3}\n",
      "Test MSE: 95662.24560267689\n",
      "Test R²: 0.770399353348728\n"
     ]
    }
   ],
   "source": [
    "import pandas as pd\n",
    "from sklearn.model_selection import train_test_split, GridSearchCV\n",
    "from sklearn.pipeline import Pipeline\n",
    "from sklearn.preprocessing import PolynomialFeatures, StandardScaler\n",
    "from sklearn.linear_model import Ridge\n",
    "from sklearn.metrics import mean_squared_error, r2_score\n",
    "# import warnings\n",
    "# from sklearn.exceptions import LinAlgWarning, ConvergenceWarning\n",
    "\n",
    "# — Load & prepare features —\n",
    "df = pd.read_csv(\"bike_rental_features.csv\")\n",
    "df.drop(columns=['Date','DateTime'], inplace=True, errors='ignore')\n",
    "X = df.drop(columns=['Rented Bike Count'])\n",
    "y = df['Rented Bike Count']\n",
    "\n",
    "# — Train/test split —\n",
    "X_train, X_test, y_train, y_test = train_test_split(\n",
    "    X, y, test_size=0.2, random_state=42\n",
    ")\n",
    "\n",
    "# — Pipeline: polynomial → scale → ridge —\n",
    "pipe = Pipeline([\n",
    "    (\"poly\",  PolynomialFeatures(include_bias=False)),\n",
    "    (\"scale\", StandardScaler()),\n",
    "    (\"model\", Ridge())\n",
    "])\n",
    "\n",
    "# — Grid: degree, alpha, and solver for stability —\n",
    "param_grid = {\n",
    "    \"poly__degree\": [1, 2, 3],\n",
    "    \"model__alpha\": [0.1, 1, 10],\n",
    "    \"model__solver\": [\"lsqr\", \"sag\"]\n",
    "}\n",
    "\n",
    "# — Suppress harmless warnings —\n",
    "# warnings.filterwarnings(\"ignore\", category=LinAlgWarning)\n",
    "# warnings.filterwarnings(\"ignore\", category=ConvergenceWarning)\n",
    "\n",
    "# — Run grid search —\n",
    "gs = GridSearchCV(\n",
    "    pipe,\n",
    "    param_grid,\n",
    "    cv=5,\n",
    "    scoring=\"neg_mean_squared_error\",\n",
    "    n_jobs=-1,\n",
    "    verbose=1\n",
    ")\n",
    "gs.fit(X_train, y_train)\n",
    "\n",
    "# — Evaluate on test set —\n",
    "best = gs.best_estimator_\n",
    "y_pred = best.predict(X_test)\n",
    "mse = mean_squared_error(y_test, y_pred)\n",
    "r2  = r2_score(y_test, y_pred)\n",
    "\n",
    "# — Desired output —\n",
    "print(\"Best params:\", gs.best_params_)\n",
    "print(\"Test MSE:\", mse)\n",
    "print(\"Test R²:\", r2)\n",
    "\n",
    "\n"
   ]
  },
  {
   "cell_type": "code",
   "execution_count": 25,
   "id": "84bf3652-620c-4116-925f-d7e9c36aa00b",
   "metadata": {},
   "outputs": [
    {
     "name": "stdout",
     "output_type": "stream",
     "text": [
      "Saved model to best_bike_model_poly3.pkl\n"
     ]
    }
   ],
   "source": [
    "import joblib\n",
    "\n",
    "# `best` is your GridSearchCV best_estimator_\n",
    "joblib.dump(best, \"best_bike_model_poly3.pkl\")\n",
    "print(\"Saved model to best_bike_model_poly3.pkl\")\n"
   ]
  },
  {
   "cell_type": "code",
   "execution_count": null,
   "id": "3e441216-1aed-4563-a38a-20ff6f34ad3a",
   "metadata": {},
   "outputs": [],
   "source": [
    "#  Task 4: Model evaluation and validation (45 mins)\n",
    "\n",
    "# Perform cross-validation techniques to validate model performance (on both models- With Polynomial Features and without Polynomial Features)\n",
    "# Assess models using test data\n",
    "# Compare results across different regression models\n",
    "#       Task 5: Reporting and insights (30 mins)\n",
    "\n",
    "# 1.    Summarize findings and key takeaways from the analysis\n",
    "# 2.    Discuss feature importance and business implications\n",
    "# 3.    Provide recommendations for further improvements"
   ]
  },
  {
   "cell_type": "code",
   "execution_count": 28,
   "id": "742ab38f-752d-4030-b211-69985046d9d5",
   "metadata": {},
   "outputs": [
    {
     "name": "stdout",
     "output_type": "stream",
     "text": [
      "Shuffled CV MSE: 86781.19483124194\n",
      "Shuffled CV R²: 0.7912857257518382\n"
     ]
    }
   ],
   "source": [
    "from sklearn.model_selection import KFold, cross_validate\n",
    "import numpy as np\n",
    "\n",
    "kf = KFold(n_splits=5, shuffle=True, random_state=42)\n",
    "\n",
    "cv = cross_validate(\n",
    "    best,                # your best pipeline from GridSearchCV\n",
    "    X, y,\n",
    "    cv=kf,\n",
    "    scoring=(\"neg_mean_squared_error\", \"r2\"),\n",
    "    n_jobs=-1\n",
    ")\n",
    "\n",
    "print(\"Shuffled CV MSE:\", -np.mean(cv[\"test_neg_mean_squared_error\"]))\n",
    "print(\"Shuffled CV R²:\", np.mean(cv[\"test_r2\"]))\n",
    "\n"
   ]
  },
  {
   "cell_type": "code",
   "execution_count": 30,
   "id": "531a4e40-9518-477c-8296-b47ade150045",
   "metadata": {},
   "outputs": [
    {
     "name": "stdout",
     "output_type": "stream",
     "text": [
      "TimeSeriesSplit CV MSE: 172492724.87454045\n",
      "TimeSeriesSplit CV R²: -598.7438003238894\n"
     ]
    }
   ],
   "source": [
    "from sklearn.model_selection import TimeSeriesSplit, cross_validate\n",
    "import numpy as np\n",
    "\n",
    "tscv = TimeSeriesSplit(n_splits=5)\n",
    "\n",
    "cv_ts = cross_validate(\n",
    "    best,                # your best pipeline\n",
    "    X, y,\n",
    "    cv=tscv,\n",
    "    scoring=(\"neg_mean_squared_error\", \"r2\"),\n",
    "    n_jobs=-1\n",
    ")\n",
    "\n",
    "print(\"TimeSeriesSplit CV MSE:\", -np.mean(cv_ts[\"test_neg_mean_squared_error\"]))\n",
    "print(\"TimeSeriesSplit CV R²:\", np.mean(cv_ts[\"test_r2\"]))\n"
   ]
  },
  {
   "cell_type": "code",
   "execution_count": null,
   "id": "96a91000-4962-4c5e-a0c1-812948c8f25b",
   "metadata": {},
   "outputs": [],
   "source": []
  }
 ],
 "metadata": {
  "kernelspec": {
   "display_name": "Python 3 (ipykernel)",
   "language": "python",
   "name": "python3"
  },
  "language_info": {
   "codemirror_mode": {
    "name": "ipython",
    "version": 3
   },
   "file_extension": ".py",
   "mimetype": "text/x-python",
   "name": "python",
   "nbconvert_exporter": "python",
   "pygments_lexer": "ipython3",
   "version": "3.11.8"
  }
 },
 "nbformat": 4,
 "nbformat_minor": 5
}
